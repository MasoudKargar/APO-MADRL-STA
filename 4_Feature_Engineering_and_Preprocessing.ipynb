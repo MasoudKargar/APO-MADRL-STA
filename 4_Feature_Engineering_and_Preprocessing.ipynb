{
 "cells": [
  {
   "cell_type": "markdown",
   "metadata": {},
   "source": [
    "Short Backwarding for Selecting the Best Historical Agent in a Consulting System for Portfolio Allocation with Deep Reinforcement Learning"
   ]
  },
  {
   "cell_type": "markdown",
   "metadata": {},
   "source": [
    "## 4.0 Feature Engineering and Data Preprocessing\n",
    "---\n",
    "We perform feature engineering and data preprocessing by:\n",
    "* Adding Technical Indicators to the data. The technical inicators are used as inputs in the training of our Reinforcement Learning Model\n",
    "* Adding Coveriance Matrices which is also used as input for training the Models\n",
    "* Splitting the data into the training set and the testing (trading) set"
   ]
  },
  {
   "cell_type": "markdown",
   "metadata": {},
   "source": [
    "### 4.1 Import Relevant Libraries"
   ]
  },
  {
   "cell_type": "code",
   "execution_count": 1,
   "metadata": {},
   "outputs": [],
   "source": [
    "import pandas as pdp\n",
    "import pandas as pd\n",
    "import numpy as np\n",
    "import ta\n",
    "from ta import add_all_ta_features\n",
    "from ta.utils import dropna\n",
    "\n",
    "from finrl.preprocessing.data import data_split\n",
    "from finrl.preprocessing.preprocessors import FeatureEngineer\n",
    "from pickleshare import PickleShareDB\n"
   ]
  },
  {
   "cell_type": "markdown",
   "metadata": {},
   "source": [
    "### 4.2 Load the Data from the csv Files"
   ]
  },
  {
   "cell_type": "code",
   "execution_count": 2,
   "metadata": {},
   "outputs": [],
   "source": [
    "# Load the whole data set\n",
    "data = pdp.read_csv('./datasets/data.csv')\n",
    "\n",
    "# Load the close prices dataset\n",
    "prices_data = pdp.read_csv('./datasets/close_prices.csv')\n",
    "\n"
   ]
  },
  {
   "cell_type": "code",
   "execution_count": 3,
   "metadata": {},
   "outputs": [
    {
     "ename": "FileNotFoundError",
     "evalue": "[Errno 2] No such file or directory: 'filtered_stocks.csv'",
     "output_type": "error",
     "traceback": [
      "\u001b[1;31m---------------------------------------------------------------------------\u001b[0m",
      "\u001b[1;31mFileNotFoundError\u001b[0m                         Traceback (most recent call last)",
      "Cell \u001b[1;32mIn[3], line 1\u001b[0m\n\u001b[1;32m----> 1\u001b[0m filtered_stocks \u001b[38;5;241m=\u001b[39m \u001b[43mpd\u001b[49m\u001b[38;5;241;43m.\u001b[39;49m\u001b[43mread_csv\u001b[49m\u001b[43m(\u001b[49m\u001b[38;5;124;43m'\u001b[39;49m\u001b[38;5;124;43mfiltered_stocks.csv\u001b[39;49m\u001b[38;5;124;43m'\u001b[39;49m\u001b[43m)\u001b[49m\n\u001b[0;32m      2\u001b[0m filtered_stocks \u001b[38;5;241m=\u001b[39m filtered_stocks\u001b[38;5;241m.\u001b[39mdrop(columns\u001b[38;5;241m=\u001b[39m[\u001b[38;5;124m'\u001b[39m\u001b[38;5;124mUnnamed: 0\u001b[39m\u001b[38;5;124m'\u001b[39m])\n\u001b[0;32m      3\u001b[0m filtered_stocks \u001b[38;5;241m=\u001b[39m filtered_stocks[\u001b[38;5;124m'\u001b[39m\u001b[38;5;124mstock_name\u001b[39m\u001b[38;5;124m'\u001b[39m]\u001b[38;5;241m.\u001b[39mtolist()\n",
      "File \u001b[1;32md:\\Users\\nice\\anaconda3\\envs\\rein\\lib\\site-packages\\pandas\\io\\parsers\\readers.py:1026\u001b[0m, in \u001b[0;36mread_csv\u001b[1;34m(filepath_or_buffer, sep, delimiter, header, names, index_col, usecols, dtype, engine, converters, true_values, false_values, skipinitialspace, skiprows, skipfooter, nrows, na_values, keep_default_na, na_filter, verbose, skip_blank_lines, parse_dates, infer_datetime_format, keep_date_col, date_parser, date_format, dayfirst, cache_dates, iterator, chunksize, compression, thousands, decimal, lineterminator, quotechar, quoting, doublequote, escapechar, comment, encoding, encoding_errors, dialect, on_bad_lines, delim_whitespace, low_memory, memory_map, float_precision, storage_options, dtype_backend)\u001b[0m\n\u001b[0;32m   1013\u001b[0m kwds_defaults \u001b[38;5;241m=\u001b[39m _refine_defaults_read(\n\u001b[0;32m   1014\u001b[0m     dialect,\n\u001b[0;32m   1015\u001b[0m     delimiter,\n\u001b[1;32m   (...)\u001b[0m\n\u001b[0;32m   1022\u001b[0m     dtype_backend\u001b[38;5;241m=\u001b[39mdtype_backend,\n\u001b[0;32m   1023\u001b[0m )\n\u001b[0;32m   1024\u001b[0m kwds\u001b[38;5;241m.\u001b[39mupdate(kwds_defaults)\n\u001b[1;32m-> 1026\u001b[0m \u001b[38;5;28;01mreturn\u001b[39;00m \u001b[43m_read\u001b[49m\u001b[43m(\u001b[49m\u001b[43mfilepath_or_buffer\u001b[49m\u001b[43m,\u001b[49m\u001b[43m \u001b[49m\u001b[43mkwds\u001b[49m\u001b[43m)\u001b[49m\n",
      "File \u001b[1;32md:\\Users\\nice\\anaconda3\\envs\\rein\\lib\\site-packages\\pandas\\io\\parsers\\readers.py:620\u001b[0m, in \u001b[0;36m_read\u001b[1;34m(filepath_or_buffer, kwds)\u001b[0m\n\u001b[0;32m    617\u001b[0m _validate_names(kwds\u001b[38;5;241m.\u001b[39mget(\u001b[38;5;124m\"\u001b[39m\u001b[38;5;124mnames\u001b[39m\u001b[38;5;124m\"\u001b[39m, \u001b[38;5;28;01mNone\u001b[39;00m))\n\u001b[0;32m    619\u001b[0m \u001b[38;5;66;03m# Create the parser.\u001b[39;00m\n\u001b[1;32m--> 620\u001b[0m parser \u001b[38;5;241m=\u001b[39m TextFileReader(filepath_or_buffer, \u001b[38;5;241m*\u001b[39m\u001b[38;5;241m*\u001b[39mkwds)\n\u001b[0;32m    622\u001b[0m \u001b[38;5;28;01mif\u001b[39;00m chunksize \u001b[38;5;129;01mor\u001b[39;00m iterator:\n\u001b[0;32m    623\u001b[0m     \u001b[38;5;28;01mreturn\u001b[39;00m parser\n",
      "File \u001b[1;32md:\\Users\\nice\\anaconda3\\envs\\rein\\lib\\site-packages\\pandas\\io\\parsers\\readers.py:1620\u001b[0m, in \u001b[0;36mTextFileReader.__init__\u001b[1;34m(self, f, engine, **kwds)\u001b[0m\n\u001b[0;32m   1617\u001b[0m     \u001b[38;5;28mself\u001b[39m\u001b[38;5;241m.\u001b[39moptions[\u001b[38;5;124m\"\u001b[39m\u001b[38;5;124mhas_index_names\u001b[39m\u001b[38;5;124m\"\u001b[39m] \u001b[38;5;241m=\u001b[39m kwds[\u001b[38;5;124m\"\u001b[39m\u001b[38;5;124mhas_index_names\u001b[39m\u001b[38;5;124m\"\u001b[39m]\n\u001b[0;32m   1619\u001b[0m \u001b[38;5;28mself\u001b[39m\u001b[38;5;241m.\u001b[39mhandles: IOHandles \u001b[38;5;241m|\u001b[39m \u001b[38;5;28;01mNone\u001b[39;00m \u001b[38;5;241m=\u001b[39m \u001b[38;5;28;01mNone\u001b[39;00m\n\u001b[1;32m-> 1620\u001b[0m \u001b[38;5;28mself\u001b[39m\u001b[38;5;241m.\u001b[39m_engine \u001b[38;5;241m=\u001b[39m \u001b[38;5;28;43mself\u001b[39;49m\u001b[38;5;241;43m.\u001b[39;49m\u001b[43m_make_engine\u001b[49m\u001b[43m(\u001b[49m\u001b[43mf\u001b[49m\u001b[43m,\u001b[49m\u001b[43m \u001b[49m\u001b[38;5;28;43mself\u001b[39;49m\u001b[38;5;241;43m.\u001b[39;49m\u001b[43mengine\u001b[49m\u001b[43m)\u001b[49m\n",
      "File \u001b[1;32md:\\Users\\nice\\anaconda3\\envs\\rein\\lib\\site-packages\\pandas\\io\\parsers\\readers.py:1880\u001b[0m, in \u001b[0;36mTextFileReader._make_engine\u001b[1;34m(self, f, engine)\u001b[0m\n\u001b[0;32m   1878\u001b[0m     \u001b[38;5;28;01mif\u001b[39;00m \u001b[38;5;124m\"\u001b[39m\u001b[38;5;124mb\u001b[39m\u001b[38;5;124m\"\u001b[39m \u001b[38;5;129;01mnot\u001b[39;00m \u001b[38;5;129;01min\u001b[39;00m mode:\n\u001b[0;32m   1879\u001b[0m         mode \u001b[38;5;241m+\u001b[39m\u001b[38;5;241m=\u001b[39m \u001b[38;5;124m\"\u001b[39m\u001b[38;5;124mb\u001b[39m\u001b[38;5;124m\"\u001b[39m\n\u001b[1;32m-> 1880\u001b[0m \u001b[38;5;28mself\u001b[39m\u001b[38;5;241m.\u001b[39mhandles \u001b[38;5;241m=\u001b[39m \u001b[43mget_handle\u001b[49m\u001b[43m(\u001b[49m\n\u001b[0;32m   1881\u001b[0m \u001b[43m    \u001b[49m\u001b[43mf\u001b[49m\u001b[43m,\u001b[49m\n\u001b[0;32m   1882\u001b[0m \u001b[43m    \u001b[49m\u001b[43mmode\u001b[49m\u001b[43m,\u001b[49m\n\u001b[0;32m   1883\u001b[0m \u001b[43m    \u001b[49m\u001b[43mencoding\u001b[49m\u001b[38;5;241;43m=\u001b[39;49m\u001b[38;5;28;43mself\u001b[39;49m\u001b[38;5;241;43m.\u001b[39;49m\u001b[43moptions\u001b[49m\u001b[38;5;241;43m.\u001b[39;49m\u001b[43mget\u001b[49m\u001b[43m(\u001b[49m\u001b[38;5;124;43m\"\u001b[39;49m\u001b[38;5;124;43mencoding\u001b[39;49m\u001b[38;5;124;43m\"\u001b[39;49m\u001b[43m,\u001b[49m\u001b[43m \u001b[49m\u001b[38;5;28;43;01mNone\u001b[39;49;00m\u001b[43m)\u001b[49m\u001b[43m,\u001b[49m\n\u001b[0;32m   1884\u001b[0m \u001b[43m    \u001b[49m\u001b[43mcompression\u001b[49m\u001b[38;5;241;43m=\u001b[39;49m\u001b[38;5;28;43mself\u001b[39;49m\u001b[38;5;241;43m.\u001b[39;49m\u001b[43moptions\u001b[49m\u001b[38;5;241;43m.\u001b[39;49m\u001b[43mget\u001b[49m\u001b[43m(\u001b[49m\u001b[38;5;124;43m\"\u001b[39;49m\u001b[38;5;124;43mcompression\u001b[39;49m\u001b[38;5;124;43m\"\u001b[39;49m\u001b[43m,\u001b[49m\u001b[43m \u001b[49m\u001b[38;5;28;43;01mNone\u001b[39;49;00m\u001b[43m)\u001b[49m\u001b[43m,\u001b[49m\n\u001b[0;32m   1885\u001b[0m \u001b[43m    \u001b[49m\u001b[43mmemory_map\u001b[49m\u001b[38;5;241;43m=\u001b[39;49m\u001b[38;5;28;43mself\u001b[39;49m\u001b[38;5;241;43m.\u001b[39;49m\u001b[43moptions\u001b[49m\u001b[38;5;241;43m.\u001b[39;49m\u001b[43mget\u001b[49m\u001b[43m(\u001b[49m\u001b[38;5;124;43m\"\u001b[39;49m\u001b[38;5;124;43mmemory_map\u001b[39;49m\u001b[38;5;124;43m\"\u001b[39;49m\u001b[43m,\u001b[49m\u001b[43m \u001b[49m\u001b[38;5;28;43;01mFalse\u001b[39;49;00m\u001b[43m)\u001b[49m\u001b[43m,\u001b[49m\n\u001b[0;32m   1886\u001b[0m \u001b[43m    \u001b[49m\u001b[43mis_text\u001b[49m\u001b[38;5;241;43m=\u001b[39;49m\u001b[43mis_text\u001b[49m\u001b[43m,\u001b[49m\n\u001b[0;32m   1887\u001b[0m \u001b[43m    \u001b[49m\u001b[43merrors\u001b[49m\u001b[38;5;241;43m=\u001b[39;49m\u001b[38;5;28;43mself\u001b[39;49m\u001b[38;5;241;43m.\u001b[39;49m\u001b[43moptions\u001b[49m\u001b[38;5;241;43m.\u001b[39;49m\u001b[43mget\u001b[49m\u001b[43m(\u001b[49m\u001b[38;5;124;43m\"\u001b[39;49m\u001b[38;5;124;43mencoding_errors\u001b[39;49m\u001b[38;5;124;43m\"\u001b[39;49m\u001b[43m,\u001b[49m\u001b[43m \u001b[49m\u001b[38;5;124;43m\"\u001b[39;49m\u001b[38;5;124;43mstrict\u001b[39;49m\u001b[38;5;124;43m\"\u001b[39;49m\u001b[43m)\u001b[49m\u001b[43m,\u001b[49m\n\u001b[0;32m   1888\u001b[0m \u001b[43m    \u001b[49m\u001b[43mstorage_options\u001b[49m\u001b[38;5;241;43m=\u001b[39;49m\u001b[38;5;28;43mself\u001b[39;49m\u001b[38;5;241;43m.\u001b[39;49m\u001b[43moptions\u001b[49m\u001b[38;5;241;43m.\u001b[39;49m\u001b[43mget\u001b[49m\u001b[43m(\u001b[49m\u001b[38;5;124;43m\"\u001b[39;49m\u001b[38;5;124;43mstorage_options\u001b[39;49m\u001b[38;5;124;43m\"\u001b[39;49m\u001b[43m,\u001b[49m\u001b[43m \u001b[49m\u001b[38;5;28;43;01mNone\u001b[39;49;00m\u001b[43m)\u001b[49m\u001b[43m,\u001b[49m\n\u001b[0;32m   1889\u001b[0m \u001b[43m\u001b[49m\u001b[43m)\u001b[49m\n\u001b[0;32m   1890\u001b[0m \u001b[38;5;28;01massert\u001b[39;00m \u001b[38;5;28mself\u001b[39m\u001b[38;5;241m.\u001b[39mhandles \u001b[38;5;129;01mis\u001b[39;00m \u001b[38;5;129;01mnot\u001b[39;00m \u001b[38;5;28;01mNone\u001b[39;00m\n\u001b[0;32m   1891\u001b[0m f \u001b[38;5;241m=\u001b[39m \u001b[38;5;28mself\u001b[39m\u001b[38;5;241m.\u001b[39mhandles\u001b[38;5;241m.\u001b[39mhandle\n",
      "File \u001b[1;32md:\\Users\\nice\\anaconda3\\envs\\rein\\lib\\site-packages\\pandas\\io\\common.py:873\u001b[0m, in \u001b[0;36mget_handle\u001b[1;34m(path_or_buf, mode, encoding, compression, memory_map, is_text, errors, storage_options)\u001b[0m\n\u001b[0;32m    868\u001b[0m \u001b[38;5;28;01melif\u001b[39;00m \u001b[38;5;28misinstance\u001b[39m(handle, \u001b[38;5;28mstr\u001b[39m):\n\u001b[0;32m    869\u001b[0m     \u001b[38;5;66;03m# Check whether the filename is to be opened in binary mode.\u001b[39;00m\n\u001b[0;32m    870\u001b[0m     \u001b[38;5;66;03m# Binary mode does not support 'encoding' and 'newline'.\u001b[39;00m\n\u001b[0;32m    871\u001b[0m     \u001b[38;5;28;01mif\u001b[39;00m ioargs\u001b[38;5;241m.\u001b[39mencoding \u001b[38;5;129;01mand\u001b[39;00m \u001b[38;5;124m\"\u001b[39m\u001b[38;5;124mb\u001b[39m\u001b[38;5;124m\"\u001b[39m \u001b[38;5;129;01mnot\u001b[39;00m \u001b[38;5;129;01min\u001b[39;00m ioargs\u001b[38;5;241m.\u001b[39mmode:\n\u001b[0;32m    872\u001b[0m         \u001b[38;5;66;03m# Encoding\u001b[39;00m\n\u001b[1;32m--> 873\u001b[0m         handle \u001b[38;5;241m=\u001b[39m \u001b[38;5;28;43mopen\u001b[39;49m\u001b[43m(\u001b[49m\n\u001b[0;32m    874\u001b[0m \u001b[43m            \u001b[49m\u001b[43mhandle\u001b[49m\u001b[43m,\u001b[49m\n\u001b[0;32m    875\u001b[0m \u001b[43m            \u001b[49m\u001b[43mioargs\u001b[49m\u001b[38;5;241;43m.\u001b[39;49m\u001b[43mmode\u001b[49m\u001b[43m,\u001b[49m\n\u001b[0;32m    876\u001b[0m \u001b[43m            \u001b[49m\u001b[43mencoding\u001b[49m\u001b[38;5;241;43m=\u001b[39;49m\u001b[43mioargs\u001b[49m\u001b[38;5;241;43m.\u001b[39;49m\u001b[43mencoding\u001b[49m\u001b[43m,\u001b[49m\n\u001b[0;32m    877\u001b[0m \u001b[43m            \u001b[49m\u001b[43merrors\u001b[49m\u001b[38;5;241;43m=\u001b[39;49m\u001b[43merrors\u001b[49m\u001b[43m,\u001b[49m\n\u001b[0;32m    878\u001b[0m \u001b[43m            \u001b[49m\u001b[43mnewline\u001b[49m\u001b[38;5;241;43m=\u001b[39;49m\u001b[38;5;124;43m\"\u001b[39;49m\u001b[38;5;124;43m\"\u001b[39;49m\u001b[43m,\u001b[49m\n\u001b[0;32m    879\u001b[0m \u001b[43m        \u001b[49m\u001b[43m)\u001b[49m\n\u001b[0;32m    880\u001b[0m     \u001b[38;5;28;01melse\u001b[39;00m:\n\u001b[0;32m    881\u001b[0m         \u001b[38;5;66;03m# Binary mode\u001b[39;00m\n\u001b[0;32m    882\u001b[0m         handle \u001b[38;5;241m=\u001b[39m \u001b[38;5;28mopen\u001b[39m(handle, ioargs\u001b[38;5;241m.\u001b[39mmode)\n",
      "\u001b[1;31mFileNotFoundError\u001b[0m: [Errno 2] No such file or directory: 'filtered_stocks.csv'"
     ]
    }
   ],
   "source": [
    "filtered_stocks = pd.read_csv('filtered_stocks.csv')\n",
    "filtered_stocks = filtered_stocks.drop(columns=['Unnamed: 0'])\n",
    "filtered_stocks = filtered_stocks['stock_name'].tolist()\n",
    "%store filtered_stocks"
   ]
  },
  {
   "cell_type": "code",
   "execution_count": null,
   "metadata": {},
   "outputs": [
    {
     "name": "stdout",
     "output_type": "stream",
     "text": [
      "['JNJ', 'PG', 'WMT', 'PFE', 'KO', 'MMM', 'MCD', 'VZ', 'IBM', 'RTX', 'MRK', 'HD', 'CSCO', 'XOM', 'DIS', 'CVX', 'AXP', 'CAT', 'MSFT', 'NKE']\n"
     ]
    }
   ],
   "source": [
    "list_of_stocks = filtered_stocks\n",
    "print(list_of_stocks)"
   ]
  },
  {
   "cell_type": "code",
   "execution_count": null,
   "metadata": {},
   "outputs": [
    {
     "data": {
      "text/html": [
       "<div>\n",
       "<style scoped>\n",
       "    .dataframe tbody tr th:only-of-type {\n",
       "        vertical-align: middle;\n",
       "    }\n",
       "\n",
       "    .dataframe tbody tr th {\n",
       "        vertical-align: top;\n",
       "    }\n",
       "\n",
       "    .dataframe thead th {\n",
       "        text-align: right;\n",
       "    }\n",
       "</style>\n",
       "<table border=\"1\" class=\"dataframe\">\n",
       "  <thead>\n",
       "    <tr style=\"text-align: right;\">\n",
       "      <th></th>\n",
       "      <th>date</th>\n",
       "      <th>tic</th>\n",
       "      <th>close</th>\n",
       "      <th>high</th>\n",
       "      <th>low</th>\n",
       "      <th>open</th>\n",
       "      <th>volume</th>\n",
       "    </tr>\n",
       "  </thead>\n",
       "  <tbody>\n",
       "    <tr>\n",
       "      <th>0</th>\n",
       "      <td>2008-03-19</td>\n",
       "      <td>AAPL</td>\n",
       "      <td>3.915352</td>\n",
       "      <td>4.796071</td>\n",
       "      <td>4.631071</td>\n",
       "      <td>4.754286</td>\n",
       "      <td>1.010537e+09</td>\n",
       "    </tr>\n",
       "    <tr>\n",
       "      <th>1</th>\n",
       "      <td>2008-03-19</td>\n",
       "      <td>AXP</td>\n",
       "      <td>32.371143</td>\n",
       "      <td>44.480000</td>\n",
       "      <td>41.919998</td>\n",
       "      <td>44.200001</td>\n",
       "      <td>1.409830e+07</td>\n",
       "    </tr>\n",
       "    <tr>\n",
       "      <th>2</th>\n",
       "      <td>2008-03-19</td>\n",
       "      <td>BA</td>\n",
       "      <td>54.094543</td>\n",
       "      <td>77.000000</td>\n",
       "      <td>73.449997</td>\n",
       "      <td>76.980003</td>\n",
       "      <td>9.195600e+06</td>\n",
       "    </tr>\n",
       "    <tr>\n",
       "      <th>3</th>\n",
       "      <td>2008-03-19</td>\n",
       "      <td>CAT</td>\n",
       "      <td>47.481430</td>\n",
       "      <td>77.000000</td>\n",
       "      <td>73.730003</td>\n",
       "      <td>76.620003</td>\n",
       "      <td>7.377400e+06</td>\n",
       "    </tr>\n",
       "    <tr>\n",
       "      <th>4</th>\n",
       "      <td>2008-03-19</td>\n",
       "      <td>CSCO</td>\n",
       "      <td>16.594309</td>\n",
       "      <td>25.580000</td>\n",
       "      <td>24.459999</td>\n",
       "      <td>25.469999</td>\n",
       "      <td>6.398860e+07</td>\n",
       "    </tr>\n",
       "  </tbody>\n",
       "</table>\n",
       "</div>"
      ],
      "text/plain": [
       "         date   tic      close       high        low       open        volume\n",
       "0  2008-03-19  AAPL   3.915352   4.796071   4.631071   4.754286  1.010537e+09\n",
       "1  2008-03-19   AXP  32.371143  44.480000  41.919998  44.200001  1.409830e+07\n",
       "2  2008-03-19    BA  54.094543  77.000000  73.449997  76.980003  9.195600e+06\n",
       "3  2008-03-19   CAT  47.481430  77.000000  73.730003  76.620003  7.377400e+06\n",
       "4  2008-03-19  CSCO  16.594309  25.580000  24.459999  25.469999  6.398860e+07"
      ]
     },
     "execution_count": 5,
     "metadata": {},
     "output_type": "execute_result"
    }
   ],
   "source": [
    "data.head()"
   ]
  },
  {
   "cell_type": "code",
   "execution_count": null,
   "metadata": {},
   "outputs": [],
   "source": [
    "data = data[data['tic'].isin(list_of_stocks)]"
   ]
  },
  {
   "cell_type": "code",
   "execution_count": null,
   "metadata": {},
   "outputs": [
    {
     "data": {
      "text/plain": [
       "array(['AXP', 'CAT', 'CSCO', 'CVX', 'DIS', 'HD', 'IBM', 'JNJ', 'KO',\n",
       "       'MCD', 'MMM', 'MRK', 'MSFT', 'NKE', 'PFE', 'PG', 'RTX', 'VZ',\n",
       "       'WMT', 'XOM'], dtype=object)"
      ]
     },
     "execution_count": 7,
     "metadata": {},
     "output_type": "execute_result"
    }
   ],
   "source": [
    "data.tic.unique()"
   ]
  },
  {
   "cell_type": "markdown",
   "metadata": {},
   "source": [
    "### 4.3 Add Technical Indicators\n",
    "---\n",
    "We define a function to add technical indicators to the dataset by making use of the ta library\n",
    "\n",
    "The folloing indicators are considered:\n",
    "* Volatility Average True Range (ATR)\n",
    "* Volatility Bollinger Band Width (BBW)\n",
    "* Volume On-balance Volume (OBV\n",
    "* Volume Chaikin Money Flow (CMF)\n",
    "* Trend Moving Average Convergence Divergence (MACD)\n",
    "* Trend Average Directional Index (ADX)\n",
    "* Trend Fast Simple Moving Average (SMA)\n",
    "* Trend Fast Exponential Moving Average (EMA)\n",
    "* Trend Commodity Channel Index (CCI)\n",
    "* Momentum Relative Strength Index (RSI)"
   ]
  },
  {
   "cell_type": "code",
   "execution_count": null,
   "metadata": {},
   "outputs": [],
   "source": [
    "# Define a Function for adding technical indicators\n",
    "\n",
    "def add_features(data, feature_list, short_names):\n",
    "    \"\"\"\n",
    "    Function to add technical indicators for features\n",
    "    -Takes in a dataset with Open, High, Low, Close and Volume\n",
    "    -Also takes in a list of the technical indicators to be added \n",
    "     as well as a list of the shortened indicator names\n",
    "    \"\"\"\n",
    "    \n",
    "    # list of column names to filter the features\n",
    "    data_col_names = list(data.columns)\n",
    "    filter_names = data_col_names + feature_list\n",
    "    col_rename = data_col_names +  short_names\n",
    "    \n",
    "    # Add technical indicators using the ta Library\n",
    "    data = add_all_ta_features(data, open=\"open\", high=\"high\", \n",
    "    low=\"low\", close=\"close\", volume=\"volume\") \n",
    "    \n",
    "    # Filter the Indicators with the required features\n",
    "    data = data[filter_names]\n",
    "    data.columns = col_rename # rename the columns to use shortened indicator names\n",
    "    data = data.dropna()\n",
    "    \n",
    "    return data"
   ]
  },
  {
   "cell_type": "code",
   "execution_count": null,
   "metadata": {},
   "outputs": [],
   "source": [
    "# List of Features to add\n",
    "feature_list= ['volatility_atr','volatility_bbw','volume_obv','volume_cmf',\n",
    "               'trend_macd', 'trend_adx', 'trend_sma_fast', \n",
    "               'trend_ema_fast', 'trend_cci', 'momentum_rsi']\n",
    "\n",
    "# Short names of the features\n",
    "short_names = ['atr', 'bbw','obv','cmf','macd', 'adx', 'sma', 'ema', 'cci', 'rsi']\n",
    "\n",
    "#feature_list= ['volatility_atr','volatility_bbw','volume_obv','volume_cmf','trend_macd']\n",
    "\n",
    "# Short names of the features\n",
    "#short_names = ['atr', 'bbw','obv','cmf','macd']"
   ]
  },
  {
   "cell_type": "code",
   "execution_count": null,
   "metadata": {},
   "outputs": [
    {
     "name": "stderr",
     "output_type": "stream",
     "text": [
      "d:\\Users\\nice\\anaconda3\\envs\\rein\\lib\\site-packages\\ta\\volume.py:335: RuntimeWarning: overflow encountered in scalar multiply\n",
      "  self._nvi.iloc[i] = self._nvi.iloc[i - 1] * (1.0 + price_change.iloc[i])\n"
     ]
    }
   ],
   "source": [
    "# Add Indicators to our dataset\n",
    "data_with_features = data.copy()\n",
    "\n",
    "data_with_features = add_features(data_with_features, feature_list, short_names)"
   ]
  },
  {
   "cell_type": "code",
   "execution_count": null,
   "metadata": {
    "scrolled": true
   },
   "outputs": [
    {
     "data": {
      "text/html": [
       "<div>\n",
       "<style scoped>\n",
       "    .dataframe tbody tr th:only-of-type {\n",
       "        vertical-align: middle;\n",
       "    }\n",
       "\n",
       "    .dataframe tbody tr th {\n",
       "        vertical-align: top;\n",
       "    }\n",
       "\n",
       "    .dataframe thead th {\n",
       "        text-align: right;\n",
       "    }\n",
       "</style>\n",
       "<table border=\"1\" class=\"dataframe\">\n",
       "  <thead>\n",
       "    <tr style=\"text-align: right;\">\n",
       "      <th></th>\n",
       "      <th>date</th>\n",
       "      <th>tic</th>\n",
       "      <th>close</th>\n",
       "      <th>high</th>\n",
       "      <th>low</th>\n",
       "      <th>open</th>\n",
       "      <th>volume</th>\n",
       "      <th>atr</th>\n",
       "      <th>bbw</th>\n",
       "      <th>obv</th>\n",
       "      <th>cmf</th>\n",
       "      <th>macd</th>\n",
       "      <th>adx</th>\n",
       "      <th>sma</th>\n",
       "      <th>ema</th>\n",
       "      <th>cci</th>\n",
       "      <th>rsi</th>\n",
       "    </tr>\n",
       "  </thead>\n",
       "  <tbody>\n",
       "    <tr>\n",
       "      <th>39</th>\n",
       "      <td>2008-03-20</td>\n",
       "      <td>HD</td>\n",
       "      <td>18.727085</td>\n",
       "      <td>28.170000</td>\n",
       "      <td>26.959999</td>\n",
       "      <td>26.969999</td>\n",
       "      <td>22243000.0</td>\n",
       "      <td>24.669007</td>\n",
       "      <td>194.751240</td>\n",
       "      <td>-379331975.0</td>\n",
       "      <td>-28.805267</td>\n",
       "      <td>-0.673785</td>\n",
       "      <td>0.000000</td>\n",
       "      <td>28.695749</td>\n",
       "      <td>28.952696</td>\n",
       "      <td>-62.210727</td>\n",
       "      <td>47.082909</td>\n",
       "    </tr>\n",
       "    <tr>\n",
       "      <th>40</th>\n",
       "      <td>2008-03-20</td>\n",
       "      <td>IBM</td>\n",
       "      <td>65.684776</td>\n",
       "      <td>113.269600</td>\n",
       "      <td>111.520073</td>\n",
       "      <td>111.940727</td>\n",
       "      <td>11943123.0</td>\n",
       "      <td>31.656357</td>\n",
       "      <td>195.766428</td>\n",
       "      <td>-367388852.0</td>\n",
       "      <td>-28.903208</td>\n",
       "      <td>2.306319</td>\n",
       "      <td>0.000000</td>\n",
       "      <td>33.322819</td>\n",
       "      <td>34.603785</td>\n",
       "      <td>193.529282</td>\n",
       "      <td>57.675380</td>\n",
       "    </tr>\n",
       "    <tr>\n",
       "      <th>42</th>\n",
       "      <td>2008-03-20</td>\n",
       "      <td>JNJ</td>\n",
       "      <td>40.486263</td>\n",
       "      <td>65.500000</td>\n",
       "      <td>64.889999</td>\n",
       "      <td>64.970001</td>\n",
       "      <td>16276300.0</td>\n",
       "      <td>28.570199</td>\n",
       "      <td>195.814974</td>\n",
       "      <td>-383665152.0</td>\n",
       "      <td>-29.862948</td>\n",
       "      <td>2.604738</td>\n",
       "      <td>5.147927</td>\n",
       "      <td>33.185575</td>\n",
       "      <td>35.508782</td>\n",
       "      <td>52.325765</td>\n",
       "      <td>51.695322</td>\n",
       "    </tr>\n",
       "    <tr>\n",
       "      <th>44</th>\n",
       "      <td>2008-03-20</td>\n",
       "      <td>KO</td>\n",
       "      <td>18.561644</td>\n",
       "      <td>30.570000</td>\n",
       "      <td>30.020000</td>\n",
       "      <td>30.080000</td>\n",
       "      <td>31028600.0</td>\n",
       "      <td>26.759806</td>\n",
       "      <td>195.534744</td>\n",
       "      <td>-414693752.0</td>\n",
       "      <td>-30.502060</td>\n",
       "      <td>1.059886</td>\n",
       "      <td>4.967550</td>\n",
       "      <td>32.298267</td>\n",
       "      <td>32.901530</td>\n",
       "      <td>-56.035501</td>\n",
       "      <td>47.117691</td>\n",
       "    </tr>\n",
       "    <tr>\n",
       "      <th>45</th>\n",
       "      <td>2008-03-20</td>\n",
       "      <td>MCD</td>\n",
       "      <td>34.636936</td>\n",
       "      <td>54.759998</td>\n",
       "      <td>53.700001</td>\n",
       "      <td>53.950001</td>\n",
       "      <td>13075600.0</td>\n",
       "      <td>27.703661</td>\n",
       "      <td>195.477884</td>\n",
       "      <td>-401618152.0</td>\n",
       "      <td>-30.808078</td>\n",
       "      <td>1.119813</td>\n",
       "      <td>4.760681</td>\n",
       "      <td>33.982515</td>\n",
       "      <td>33.168515</td>\n",
       "      <td>19.506270</td>\n",
       "      <td>50.573583</td>\n",
       "    </tr>\n",
       "  </tbody>\n",
       "</table>\n",
       "</div>"
      ],
      "text/plain": [
       "          date  tic      close        high         low        open  \\\n",
       "39  2008-03-20   HD  18.727085   28.170000   26.959999   26.969999   \n",
       "40  2008-03-20  IBM  65.684776  113.269600  111.520073  111.940727   \n",
       "42  2008-03-20  JNJ  40.486263   65.500000   64.889999   64.970001   \n",
       "44  2008-03-20   KO  18.561644   30.570000   30.020000   30.080000   \n",
       "45  2008-03-20  MCD  34.636936   54.759998   53.700001   53.950001   \n",
       "\n",
       "        volume        atr         bbw          obv        cmf      macd  \\\n",
       "39  22243000.0  24.669007  194.751240 -379331975.0 -28.805267 -0.673785   \n",
       "40  11943123.0  31.656357  195.766428 -367388852.0 -28.903208  2.306319   \n",
       "42  16276300.0  28.570199  195.814974 -383665152.0 -29.862948  2.604738   \n",
       "44  31028600.0  26.759806  195.534744 -414693752.0 -30.502060  1.059886   \n",
       "45  13075600.0  27.703661  195.477884 -401618152.0 -30.808078  1.119813   \n",
       "\n",
       "         adx        sma        ema         cci        rsi  \n",
       "39  0.000000  28.695749  28.952696  -62.210727  47.082909  \n",
       "40  0.000000  33.322819  34.603785  193.529282  57.675380  \n",
       "42  5.147927  33.185575  35.508782   52.325765  51.695322  \n",
       "44  4.967550  32.298267  32.901530  -56.035501  47.117691  \n",
       "45  4.760681  33.982515  33.168515   19.506270  50.573583  "
      ]
     },
     "execution_count": 11,
     "metadata": {},
     "output_type": "execute_result"
    }
   ],
   "source": [
    "data_with_features.head()"
   ]
  },
  {
   "cell_type": "code",
   "execution_count": null,
   "metadata": {},
   "outputs": [],
   "source": [
    "feature_list = list(data_with_features.columns)[7:]"
   ]
  },
  {
   "cell_type": "code",
   "execution_count": null,
   "metadata": {},
   "outputs": [
    {
     "name": "stdout",
     "output_type": "stream",
     "text": [
      "['atr', 'bbw', 'obv', 'cmf', 'macd', 'adx', 'sma', 'ema', 'cci', 'rsi']\n"
     ]
    }
   ],
   "source": [
    "print(feature_list)"
   ]
  },
  {
   "cell_type": "markdown",
   "metadata": {},
   "source": [
    "### 4.4 Add Covariance Matrix\n",
    "---\n",
    "We define a function that will add Covarance Matrices to our dataset"
   ]
  },
  {
   "cell_type": "code",
   "execution_count": null,
   "metadata": {},
   "outputs": [],
   "source": [
    "def add_cov_matrix(df):\n",
    "    \"\"\"\n",
    "    Function to add Coveriance Matrices as part of the defined states\n",
    "    \"\"\"\n",
    "    # Sort the data and index by date and tic\n",
    "    df=df.sort_values(['date','tic'],ignore_index=True) \n",
    "    df.index = df.date.factorize()[0]\n",
    "    \n",
    "    cov_list = [] # create empty list for storing coveriance matrices at each time step\n",
    "    \n",
    "    # look back for constructing the coveriance matrix is one year\n",
    "    lookback=252\n",
    "    for i in range(lookback,len(df.index.unique())):\n",
    "        data_lookback = df.loc[i-lookback:i,:]\n",
    "        price_lookback=data_lookback.pivot_table(index = 'date',columns = 'tic', values = 'close')\n",
    "        return_lookback = price_lookback.pct_change().dropna()\n",
    "        covs = return_lookback.cov().values \n",
    "        covs = covs#/covs.max()\n",
    "        cov_list.append(covs)\n",
    "        \n",
    "    df_cov = pd.DataFrame({'date':df.date.unique()[lookback:],'cov_list':cov_list})\n",
    "    df = df.merge(df_cov, on='date')\n",
    "    df = df.sort_values(['date','tic']).reset_index(drop=True)\n",
    "    \n",
    "    return df"
   ]
  },
  {
   "cell_type": "code",
   "execution_count": null,
   "metadata": {},
   "outputs": [],
   "source": [
    "# Add Covariance Matrices to our dataset\n",
    "data_with_features_covs = data_with_features.copy()\n",
    "data_with_features_covs = add_cov_matrix(data_with_features_covs)"
   ]
  },
  {
   "cell_type": "code",
   "execution_count": null,
   "metadata": {
    "scrolled": true
   },
   "outputs": [
    {
     "data": {
      "text/html": [
       "<div>\n",
       "<style scoped>\n",
       "    .dataframe tbody tr th:only-of-type {\n",
       "        vertical-align: middle;\n",
       "    }\n",
       "\n",
       "    .dataframe tbody tr th {\n",
       "        vertical-align: top;\n",
       "    }\n",
       "\n",
       "    .dataframe thead th {\n",
       "        text-align: right;\n",
       "    }\n",
       "</style>\n",
       "<table border=\"1\" class=\"dataframe\">\n",
       "  <thead>\n",
       "    <tr style=\"text-align: right;\">\n",
       "      <th></th>\n",
       "      <th>date</th>\n",
       "      <th>tic</th>\n",
       "      <th>close</th>\n",
       "      <th>high</th>\n",
       "      <th>low</th>\n",
       "      <th>open</th>\n",
       "      <th>volume</th>\n",
       "      <th>atr</th>\n",
       "      <th>bbw</th>\n",
       "      <th>obv</th>\n",
       "      <th>cmf</th>\n",
       "      <th>macd</th>\n",
       "      <th>adx</th>\n",
       "      <th>sma</th>\n",
       "      <th>ema</th>\n",
       "      <th>cci</th>\n",
       "      <th>rsi</th>\n",
       "      <th>cov_list</th>\n",
       "    </tr>\n",
       "  </thead>\n",
       "  <tbody>\n",
       "    <tr>\n",
       "      <th>0</th>\n",
       "      <td>2009-03-20</td>\n",
       "      <td>AXP</td>\n",
       "      <td>9.658469</td>\n",
       "      <td>13.190000</td>\n",
       "      <td>12.120000</td>\n",
       "      <td>13.190000</td>\n",
       "      <td>31088200.0</td>\n",
       "      <td>20.045677</td>\n",
       "      <td>230.002536</td>\n",
       "      <td>-5.563923e+10</td>\n",
       "      <td>-19.695017</td>\n",
       "      <td>-0.890151</td>\n",
       "      <td>4.694125</td>\n",
       "      <td>18.653711</td>\n",
       "      <td>19.068885</td>\n",
       "      <td>-76.648004</td>\n",
       "      <td>47.215954</td>\n",
       "      <td>[[0.0026107181410731633, 0.0012702991646503876...</td>\n",
       "    </tr>\n",
       "    <tr>\n",
       "      <th>1</th>\n",
       "      <td>2009-03-20</td>\n",
       "      <td>CAT</td>\n",
       "      <td>17.987209</td>\n",
       "      <td>28.900000</td>\n",
       "      <td>26.730000</td>\n",
       "      <td>28.629999</td>\n",
       "      <td>16531300.0</td>\n",
       "      <td>19.965263</td>\n",
       "      <td>230.668541</td>\n",
       "      <td>-5.562269e+10</td>\n",
       "      <td>-19.455215</td>\n",
       "      <td>-0.910501</td>\n",
       "      <td>4.391543</td>\n",
       "      <td>17.160566</td>\n",
       "      <td>18.902473</td>\n",
       "      <td>-21.133828</td>\n",
       "      <td>49.482302</td>\n",
       "      <td>[[0.0026107181410731633, 0.0012702991646503876...</td>\n",
       "    </tr>\n",
       "    <tr>\n",
       "      <th>2</th>\n",
       "      <td>2009-03-20</td>\n",
       "      <td>CSCO</td>\n",
       "      <td>10.789354</td>\n",
       "      <td>16.570000</td>\n",
       "      <td>15.750000</td>\n",
       "      <td>16.370001</td>\n",
       "      <td>66078200.0</td>\n",
       "      <td>18.192457</td>\n",
       "      <td>230.960632</td>\n",
       "      <td>-5.568877e+10</td>\n",
       "      <td>-18.941235</td>\n",
       "      <td>-1.490257</td>\n",
       "      <td>4.276725</td>\n",
       "      <td>16.178579</td>\n",
       "      <td>17.654301</td>\n",
       "      <td>-64.686580</td>\n",
       "      <td>47.580937</td>\n",
       "      <td>[[0.0026107181410731633, 0.0012702991646503876...</td>\n",
       "    </tr>\n",
       "    <tr>\n",
       "      <th>3</th>\n",
       "      <td>2009-03-20</td>\n",
       "      <td>CVX</td>\n",
       "      <td>35.435562</td>\n",
       "      <td>67.980003</td>\n",
       "      <td>64.269997</td>\n",
       "      <td>67.540001</td>\n",
       "      <td>23811700.0</td>\n",
       "      <td>22.092276</td>\n",
       "      <td>230.081354</td>\n",
       "      <td>-5.566496e+10</td>\n",
       "      <td>-18.625545</td>\n",
       "      <td>0.038581</td>\n",
       "      <td>4.799891</td>\n",
       "      <td>17.896791</td>\n",
       "      <td>20.389880</td>\n",
       "      <td>114.564514</td>\n",
       "      <td>54.086535</td>\n",
       "      <td>[[0.0026107181410731633, 0.0012702991646503876...</td>\n",
       "    </tr>\n",
       "    <tr>\n",
       "      <th>4</th>\n",
       "      <td>2009-03-20</td>\n",
       "      <td>DIS</td>\n",
       "      <td>14.977372</td>\n",
       "      <td>17.980000</td>\n",
       "      <td>17.080000</td>\n",
       "      <td>17.799999</td>\n",
       "      <td>17766600.0</td>\n",
       "      <td>21.718605</td>\n",
       "      <td>230.298636</td>\n",
       "      <td>-5.568273e+10</td>\n",
       "      <td>-18.589908</td>\n",
       "      <td>-0.396044</td>\n",
       "      <td>4.597209</td>\n",
       "      <td>18.082995</td>\n",
       "      <td>19.557186</td>\n",
       "      <td>-54.702746</td>\n",
       "      <td>48.685249</td>\n",
       "      <td>[[0.0026107181410731633, 0.0012702991646503876...</td>\n",
       "    </tr>\n",
       "  </tbody>\n",
       "</table>\n",
       "</div>"
      ],
      "text/plain": [
       "         date   tic      close       high        low       open      volume  \\\n",
       "0  2009-03-20   AXP   9.658469  13.190000  12.120000  13.190000  31088200.0   \n",
       "1  2009-03-20   CAT  17.987209  28.900000  26.730000  28.629999  16531300.0   \n",
       "2  2009-03-20  CSCO  10.789354  16.570000  15.750000  16.370001  66078200.0   \n",
       "3  2009-03-20   CVX  35.435562  67.980003  64.269997  67.540001  23811700.0   \n",
       "4  2009-03-20   DIS  14.977372  17.980000  17.080000  17.799999  17766600.0   \n",
       "\n",
       "         atr         bbw           obv        cmf      macd       adx  \\\n",
       "0  20.045677  230.002536 -5.563923e+10 -19.695017 -0.890151  4.694125   \n",
       "1  19.965263  230.668541 -5.562269e+10 -19.455215 -0.910501  4.391543   \n",
       "2  18.192457  230.960632 -5.568877e+10 -18.941235 -1.490257  4.276725   \n",
       "3  22.092276  230.081354 -5.566496e+10 -18.625545  0.038581  4.799891   \n",
       "4  21.718605  230.298636 -5.568273e+10 -18.589908 -0.396044  4.597209   \n",
       "\n",
       "         sma        ema         cci        rsi  \\\n",
       "0  18.653711  19.068885  -76.648004  47.215954   \n",
       "1  17.160566  18.902473  -21.133828  49.482302   \n",
       "2  16.178579  17.654301  -64.686580  47.580937   \n",
       "3  17.896791  20.389880  114.564514  54.086535   \n",
       "4  18.082995  19.557186  -54.702746  48.685249   \n",
       "\n",
       "                                            cov_list  \n",
       "0  [[0.0026107181410731633, 0.0012702991646503876...  \n",
       "1  [[0.0026107181410731633, 0.0012702991646503876...  \n",
       "2  [[0.0026107181410731633, 0.0012702991646503876...  \n",
       "3  [[0.0026107181410731633, 0.0012702991646503876...  \n",
       "4  [[0.0026107181410731633, 0.0012702991646503876...  "
      ]
     },
     "execution_count": 16,
     "metadata": {},
     "output_type": "execute_result"
    }
   ],
   "source": [
    "data_with_features_covs.head()"
   ]
  },
  {
   "cell_type": "markdown",
   "metadata": {},
   "source": [
    "### 4.6 Store the Dataframe"
   ]
  },
  {
   "cell_type": "code",
   "execution_count": null,
   "metadata": {},
   "outputs": [],
   "source": [
    "df = data_with_features_covs"
   ]
  },
  {
   "cell_type": "code",
   "execution_count": null,
   "metadata": {},
   "outputs": [
    {
     "name": "stdout",
     "output_type": "stream",
     "text": [
      "Stored 'df' (DataFrame)\n"
     ]
    }
   ],
   "source": [
    "df.to_csv('df.csv', index=False)\n",
    "%store df"
   ]
  }
 ],
 "metadata": {
  "kernelspec": {
   "display_name": "Python 3",
   "language": "python",
   "name": "python3"
  },
  "language_info": {
   "codemirror_mode": {
    "name": "ipython",
    "version": 3
   },
   "file_extension": ".py",
   "mimetype": "text/x-python",
   "name": "python",
   "nbconvert_exporter": "python",
   "pygments_lexer": "ipython3",
   "version": "3.10.14"
  }
 },
 "nbformat": 4,
 "nbformat_minor": 4
}
